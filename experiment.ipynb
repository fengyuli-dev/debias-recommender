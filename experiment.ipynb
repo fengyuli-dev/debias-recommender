{
 "cells": [
  {
   "cell_type": "code",
   "execution_count": 1,
   "metadata": {},
   "outputs": [],
   "source": [
    "import numpy as np\n",
    "from matplotlib import pyplot as plt\n",
    "%matplotlib inline\n",
    "from data_utils import generate_ground_truth_matrix, ground_truth_matrix_to_dataset, to_dataframe, generate_test_dataframe\n",
    "from surprise import Reader\n",
    "from surprise import Dataset\n",
    "from surprise import KNNBasic, SVD, SVDpp\n",
    "from surprise.model_selection import train_test_split\n",
    "from surprise.model_selection import cross_validate\n",
    "from surprise import accuracy"
   ]
  },
  {
   "cell_type": "markdown",
   "metadata": {},
   "source": [
    "**Visualize relationship between probability matrix and ground truth**"
   ]
  },
  {
   "cell_type": "code",
   "execution_count": 27,
   "metadata": {},
   "outputs": [
    {
     "name": "stdout",
     "output_type": "stream",
     "text": [
      "Loading model from /Users/fengyuli/opt/anaconda3/envs/rec/lib/python3.10/site-packages/reclab/environments/../../models/ml-100k/fm_model.npz trained via:\n",
      "{\"num_user_features\": 0, \"num_item_features\": 0, \"num_rating_features\": 0, \"max_num_users\": 943, \"max_num_items\": 1682, \"method\": \"sgd\", \"use_global_bias\": true, \"use_one_way\": true, \"num_two_way_factors\": 8, \"learning_rate\": 0.005, \"bias_reg\": 0.1, \"one_way_reg\": 0.1, \"two_way_reg\": 0.1, \"init_stdev\": 0.1, \"num_iter\": 100, \"seed\": 0, \"kwargs\": {}}.\n",
      "Loading model from /Users/fengyuli/opt/anaconda3/envs/rec/lib/python3.10/site-packages/reclab/environments/../../models/ml-100k/fm_model.npz trained via:\n",
      "{\"num_user_features\": 0, \"num_item_features\": 0, \"num_rating_features\": 0, \"max_num_users\": 943, \"max_num_items\": 1682, \"method\": \"sgd\", \"use_global_bias\": true, \"use_one_way\": true, \"num_two_way_factors\": 8, \"learning_rate\": 0.005, \"bias_reg\": 0.1, \"one_way_reg\": 0.1, \"two_way_reg\": 0.1, \"init_stdev\": 0.1, \"num_iter\": 100, \"seed\": 0, \"kwargs\": {}}.\n",
      "Loading model from /Users/fengyuli/opt/anaconda3/envs/rec/lib/python3.10/site-packages/reclab/environments/../../models/ml-100k/fm_model.npz trained via:\n",
      "{\"num_user_features\": 0, \"num_item_features\": 0, \"num_rating_features\": 0, \"max_num_users\": 943, \"max_num_items\": 1682, \"method\": \"sgd\", \"use_global_bias\": true, \"use_one_way\": true, \"num_two_way_factors\": 8, \"learning_rate\": 0.005, \"bias_reg\": 0.1, \"one_way_reg\": 0.1, \"two_way_reg\": 0.1, \"init_stdev\": 0.1, \"num_iter\": 100, \"seed\": 0, \"kwargs\": {}}.\n",
      "Loading model from /Users/fengyuli/opt/anaconda3/envs/rec/lib/python3.10/site-packages/reclab/environments/../../models/ml-100k/fm_model.npz trained via:\n",
      "{\"num_user_features\": 0, \"num_item_features\": 0, \"num_rating_features\": 0, \"max_num_users\": 943, \"max_num_items\": 1682, \"method\": \"sgd\", \"use_global_bias\": true, \"use_one_way\": true, \"num_two_way_factors\": 8, \"learning_rate\": 0.005, \"bias_reg\": 0.1, \"one_way_reg\": 0.1, \"two_way_reg\": 0.1, \"init_stdev\": 0.1, \"num_iter\": 100, \"seed\": 0, \"kwargs\": {}}.\n",
      "Loading model from /Users/fengyuli/opt/anaconda3/envs/rec/lib/python3.10/site-packages/reclab/environments/../../models/ml-100k/fm_model.npz trained via:\n",
      "{\"num_user_features\": 0, \"num_item_features\": 0, \"num_rating_features\": 0, \"max_num_users\": 943, \"max_num_items\": 1682, \"method\": \"sgd\", \"use_global_bias\": true, \"use_one_way\": true, \"num_two_way_factors\": 8, \"learning_rate\": 0.005, \"bias_reg\": 0.1, \"one_way_reg\": 0.1, \"two_way_reg\": 0.1, \"init_stdev\": 0.1, \"num_iter\": 100, \"seed\": 0, \"kwargs\": {}}.\n",
      "Loading model from /Users/fengyuli/opt/anaconda3/envs/rec/lib/python3.10/site-packages/reclab/environments/../../models/ml-100k/fm_model.npz trained via:\n",
      "{\"num_user_features\": 0, \"num_item_features\": 0, \"num_rating_features\": 0, \"max_num_users\": 943, \"max_num_items\": 1682, \"method\": \"sgd\", \"use_global_bias\": true, \"use_one_way\": true, \"num_two_way_factors\": 8, \"learning_rate\": 0.005, \"bias_reg\": 0.1, \"one_way_reg\": 0.1, \"two_way_reg\": 0.1, \"init_stdev\": 0.1, \"num_iter\": 100, \"seed\": 0, \"kwargs\": {}}.\n"
     ]
    }
   ],
   "source": [
    "# Plot P against R (flattened)\n",
    "\n",
    "def P_R_train(beta):\n",
    "    truth = generate_ground_truth_matrix(\n",
    "        (1000, 1000), environment='ml-100k-v1')\n",
    "    users, items, ratings, P, R, R_no_noise = ground_truth_matrix_to_dataset(\n",
    "        truth, quantization='onetofive', bias='full underlying', beta=beta, sample_prob=0.1)\n",
    "    return P, R\n",
    "\n",
    "beta = np.linspace(0, 2.5, 6)\n",
    "results = [P_R_train(i) for i in beta]     "
   ]
  },
  {
   "cell_type": "code",
   "execution_count": 36,
   "metadata": {},
   "outputs": [
    {
     "name": "stderr",
     "output_type": "stream",
     "text": [
      "/var/folders/p2/v6y91c591nq_2q129bwd64bc0000gn/T/ipykernel_31069/3252723565.py:19: UserWarning: Matplotlib is currently using module://matplotlib_inline.backend_inline, which is a non-GUI backend, so cannot show the figure.\n",
      "  fig.show()\n"
     ]
    },
    {
     "data": {
      "image/png": "[encoded data removed]",
      "text/plain": [
       "<Figure size 1008x720 with 6 Axes>"
      ]
     },
     "metadata": {
      "needs_background": "light"
     },
     "output_type": "display_data"
    }
   ],
   "source": [
    "def average_prob(P, R):\n",
    "    Ps = []\n",
    "    probs = []\n",
    "    for i in range(5):\n",
    "        Ps.append(P.copy())\n",
    "        probs.append(0)\n",
    "    for i in range(5):\n",
    "        Ps[i][R != (0.2 * i + 0.2)] = 0\n",
    "        probs[i] = Ps[i].sum() / np.count_nonzero(Ps[i])\n",
    "    return probs\n",
    "\n",
    "fig, axs = plt.subplots(2, 3, figsize=(14, 10))\n",
    "for i in range(6):\n",
    "    P, R = results[i]\n",
    "    probs = average_prob(P, R)\n",
    "    x_axis = ['0.2', '0.4', '0.6', '0.8', '1.0']\n",
    "    axs[i // 3, i % 3].bar(x_axis, probs)\n",
    "    axs[i // 3, i % 3].set(title=f'beta={beta[i]}', xlabel='rating', ylabel='avg probability', ylim=(0, 1))\n",
    "fig.show()"
   ]
  },
  {
   "cell_type": "markdown",
   "metadata": {},
   "source": [
    "**Experiment**"
   ]
  },
  {
   "cell_type": "code",
   "execution_count": 31,
   "metadata": {},
   "outputs": [
    {
     "name": "stdout",
     "output_type": "stream",
     "text": [
      "Loading model from /Users/fengyuli/opt/anaconda3/envs/rec/lib/python3.10/site-packages/reclab/environments/../../models/ml-100k/fm_model.npz trained via:\n",
      "{\"num_user_features\": 0, \"num_item_features\": 0, \"num_rating_features\": 0, \"max_num_users\": 943, \"max_num_items\": 1682, \"method\": \"sgd\", \"use_global_bias\": true, \"use_one_way\": true, \"num_two_way_factors\": 8, \"learning_rate\": 0.005, \"bias_reg\": 0.1, \"one_way_reg\": 0.1, \"two_way_reg\": 0.1, \"init_stdev\": 0.1, \"num_iter\": 100, \"seed\": 0, \"kwargs\": {}}.\n",
      "Computing the msd similarity matrix...\n",
      "Done computing similarity matrix.\n",
      "RMSE: 0.1585\n",
      "Computing the msd similarity matrix...\n",
      "Done computing similarity matrix.\n",
      "RMSE: 0.1901\n",
      "Computing the msd similarity matrix...\n",
      "Done computing similarity matrix.\n",
      "RMSE: 0.2341\n",
      "Computing the msd similarity matrix...\n",
      "Done computing similarity matrix.\n",
      "RMSE: 0.2923\n",
      "Computing the msd similarity matrix...\n",
      "Done computing similarity matrix.\n",
      "RMSE: 0.3227\n",
      "Loading model from /Users/fengyuli/opt/anaconda3/envs/rec/lib/python3.10/site-packages/reclab/environments/../../models/ml-100k/fm_model.npz trained via:\n",
      "{\"num_user_features\": 0, \"num_item_features\": 0, \"num_rating_features\": 0, \"max_num_users\": 943, \"max_num_items\": 1682, \"method\": \"sgd\", \"use_global_bias\": true, \"use_one_way\": true, \"num_two_way_factors\": 8, \"learning_rate\": 0.005, \"bias_reg\": 0.1, \"one_way_reg\": 0.1, \"two_way_reg\": 0.1, \"init_stdev\": 0.1, \"num_iter\": 100, \"seed\": 0, \"kwargs\": {}}.\n",
      "Computing the msd similarity matrix...\n",
      "Done computing similarity matrix.\n",
      "RMSE: 0.0953\n",
      "Computing the msd similarity matrix...\n",
      "Done computing similarity matrix.\n",
      "RMSE: 0.0964\n",
      "Computing the msd similarity matrix...\n",
      "Done computing similarity matrix.\n",
      "RMSE: 0.1238\n",
      "Computing the msd similarity matrix...\n",
      "Done computing similarity matrix.\n",
      "RMSE: 0.1838\n",
      "Computing the msd similarity matrix...\n",
      "Done computing similarity matrix.\n",
      "RMSE: 0.2429\n",
      "Loading model from /Users/fengyuli/opt/anaconda3/envs/rec/lib/python3.10/site-packages/reclab/environments/../../models/ml-100k/fm_model.npz trained via:\n",
      "{\"num_user_features\": 0, \"num_item_features\": 0, \"num_rating_features\": 0, \"max_num_users\": 943, \"max_num_items\": 1682, \"method\": \"sgd\", \"use_global_bias\": true, \"use_one_way\": true, \"num_two_way_factors\": 8, \"learning_rate\": 0.005, \"bias_reg\": 0.1, \"one_way_reg\": 0.1, \"two_way_reg\": 0.1, \"init_stdev\": 0.1, \"num_iter\": 100, \"seed\": 0, \"kwargs\": {}}.\n",
      "Computing the msd similarity matrix...\n",
      "Done computing similarity matrix.\n",
      "RMSE: 0.0776\n",
      "Computing the msd similarity matrix...\n",
      "Done computing similarity matrix.\n",
      "RMSE: 0.0894\n",
      "Computing the msd similarity matrix...\n",
      "Done computing similarity matrix.\n",
      "RMSE: 0.1212\n",
      "Computing the msd similarity matrix...\n",
      "Done computing similarity matrix.\n",
      "RMSE: 0.1715\n",
      "Computing the msd similarity matrix...\n",
      "Done computing similarity matrix.\n",
      "RMSE: 0.2120\n",
      "Loading model from /Users/fengyuli/opt/anaconda3/envs/rec/lib/python3.10/site-packages/reclab/environments/../../models/ml-100k/fm_model.npz trained via:\n",
      "{\"num_user_features\": 0, \"num_item_features\": 0, \"num_rating_features\": 0, \"max_num_users\": 943, \"max_num_items\": 1682, \"method\": \"sgd\", \"use_global_bias\": true, \"use_one_way\": true, \"num_two_way_factors\": 8, \"learning_rate\": 0.005, \"bias_reg\": 0.1, \"one_way_reg\": 0.1, \"two_way_reg\": 0.1, \"init_stdev\": 0.1, \"num_iter\": 100, \"seed\": 0, \"kwargs\": {}}.\n",
      "RMSE: 0.1639\n",
      "RMSE: 0.1791\n",
      "RMSE: 0.2470\n",
      "RMSE: 0.2952\n",
      "RMSE: 0.3151\n",
      "Loading model from /Users/fengyuli/opt/anaconda3/envs/rec/lib/python3.10/site-packages/reclab/environments/../../models/ml-100k/fm_model.npz trained via:\n",
      "{\"num_user_features\": 0, \"num_item_features\": 0, \"num_rating_features\": 0, \"max_num_users\": 943, \"max_num_items\": 1682, \"method\": \"sgd\", \"use_global_bias\": true, \"use_one_way\": true, \"num_two_way_factors\": 8, \"learning_rate\": 0.005, \"bias_reg\": 0.1, \"one_way_reg\": 0.1, \"two_way_reg\": 0.1, \"init_stdev\": 0.1, \"num_iter\": 100, \"seed\": 0, \"kwargs\": {}}.\n",
      "RMSE: 0.1062\n",
      "RMSE: 0.1132\n",
      "RMSE: 0.1366\n",
      "RMSE: 0.1702\n",
      "RMSE: 0.2197\n",
      "Loading model from /Users/fengyuli/opt/anaconda3/envs/rec/lib/python3.10/site-packages/reclab/environments/../../models/ml-100k/fm_model.npz trained via:\n",
      "{\"num_user_features\": 0, \"num_item_features\": 0, \"num_rating_features\": 0, \"max_num_users\": 943, \"max_num_items\": 1682, \"method\": \"sgd\", \"use_global_bias\": true, \"use_one_way\": true, \"num_two_way_factors\": 8, \"learning_rate\": 0.005, \"bias_reg\": 0.1, \"one_way_reg\": 0.1, \"two_way_reg\": 0.1, \"init_stdev\": 0.1, \"num_iter\": 100, \"seed\": 0, \"kwargs\": {}}.\n",
      "RMSE: 0.0886\n",
      "RMSE: 0.0966\n",
      "RMSE: 0.1313\n",
      "RMSE: 0.1751\n",
      "RMSE: 0.2081\n"
     ]
    }
   ],
   "source": [
    "beta = np.linspace(0.1, 5, 10)\n",
    "quantization = ['binary', 'onetothree', 'onetofive']\n",
    "user_knn_result_avg = []\n",
    "user_knn_result_1q = []\n",
    "user_knn_result_3q = []\n",
    "item_knn_result_avg = []\n",
    "item_knn_result_1q = []\n",
    "item_knn_result_3q = []\n",
    "svd_result_avg = []\n",
    "svd_result_1q = []\n",
    "svd_result_3q = []\n",
    "\n",
    "algo = KNNBasic(sim_options={'user_based': True}, verbose=False)\n",
    "\n",
    "for i in range(len(quantization)):\n",
    "\n",
    "    for iteration in range(10): \n",
    "\n",
    "        temp_results = []\n",
    "        truth = generate_ground_truth_matrix(\n",
    "        (1000, 1000), environment='ml-100k-v1')   \n",
    "\n",
    "        for j in range(len(beta)):\n",
    "            users, items, ratings, P, R, R_no_noise = ground_truth_matrix_to_dataset(\n",
    "                truth, quantization=quantization[i], bias='full underlying', beta=beta[j])\n",
    "            train_df = to_dataframe(ratings)\n",
    "\n",
    "            reader = Reader(rating_scale=(0, 1))\n",
    "            data = Dataset.load_from_df(train_df[['userID', 'itemID', 'rating']], reader)\n",
    "            trainset = data.build_full_trainset()\n",
    "\n",
    "            algo.fit(trainset)\n",
    "\n",
    "            test_df = generate_test_dataframe(R_no_noise)\n",
    "            testset = Dataset.load_from_df(test_df[['userID', 'itemID', 'rating']], reader).build_full_trainset().build_testset()\n",
    "            predictions = algo.test(testset)\n",
    "            temp_results.append(accuracy.rmse(predictions))\n",
    "\n",
    "    user_knn_result_avg.append(temp_results.mean())\n",
    "    temp_results.sort()\n",
    "    user_knn_result_1q.append(temp_results[2])\n",
    "    user_knn_result_3q.append(temp_results[7])\n",
    "\n",
    "algo = KNNBasic(sim_options={'user_based': False}, verbose=False)\n",
    "\n",
    "for i in range(len(quantization)):\n",
    "\n",
    "    for iteration in range(10):\n",
    "\n",
    "        temp_results = []\n",
    "        truth = generate_ground_truth_matrix(\n",
    "            (1000, 1000), environment='ml-100k-v1')\n",
    "\n",
    "        for j in range(len(beta)):\n",
    "            users, items, ratings, P, R, R_no_noise = ground_truth_matrix_to_dataset(\n",
    "                truth, quantization=quantization[i], bias='full underlying', beta=beta[j])\n",
    "            train_df = to_dataframe(ratings)\n",
    "\n",
    "            reader = Reader(rating_scale=(0, 1))\n",
    "            data = Dataset.load_from_df(\n",
    "                train_df[['userID', 'itemID', 'rating']], reader)\n",
    "            trainset = data.build_full_trainset()\n",
    "\n",
    "            algo.fit(trainset)\n",
    "\n",
    "            test_df = generate_test_dataframe(R_no_noise)\n",
    "            testset = Dataset.load_from_df(\n",
    "                test_df[['userID', 'itemID', 'rating']], reader).build_full_trainset().build_testset()\n",
    "            predictions = algo.test(testset)\n",
    "            temp_results.append(accuracy.rmse(predictions))\n",
    "\n",
    "    item_knn_result_avg.append(temp_results.mean())\n",
    "    temp_results.sort()\n",
    "    item_knn_result_1q.append(temp_results[2])\n",
    "    item_knn_result_3q.append(temp_results[7])\n",
    "\n",
    "algo = SVD(verbose=False)  \n",
    "\n",
    "for i in range(len(quantization)):\n",
    "\n",
    "    for iteration in range(10): \n",
    "\n",
    "        temp_results = []\n",
    "        truth = generate_ground_truth_matrix(\n",
    "        (1000, 1000), environment='ml-100k-v1')   \n",
    "\n",
    "        for j in range(len(beta)):\n",
    "            users, items, ratings, P, R, R_no_noise = ground_truth_matrix_to_dataset(\n",
    "                truth, quantization=quantization[i], bias='full underlying', beta=beta[j])\n",
    "            train_df = to_dataframe(ratings)\n",
    "\n",
    "            reader = Reader(rating_scale=(0, 1))\n",
    "            data = Dataset.load_from_df(train_df[['userID', 'itemID', 'rating']], reader)\n",
    "            trainset = data.build_full_trainset()\n",
    "\n",
    "            algo.fit(trainset)\n",
    "\n",
    "            test_df = generate_test_dataframe(R_no_noise)\n",
    "            testset = Dataset.load_from_df(test_df[['userID', 'itemID', 'rating']], reader).build_full_trainset().build_testset()\n",
    "            predictions = algo.test(testset)\n",
    "            temp_results.append(accuracy.rmse(predictions))\n",
    "\n",
    "    svd_result_avg.append(temp_results.mean())\n",
    "    temp_results.sort()\n",
    "    svd_result_1q.append(temp_results[2])\n",
    "    svd_result_3q.append(temp_results[7])\n",
    "   \n"
   ]
  },
  {
   "cell_type": "code",
   "execution_count": 31,
   "metadata": {},
   "outputs": [
    {
     "ename": "NameError",
     "evalue": "name 'user_knn_result_avg' is not defined",
     "output_type": "error",
     "traceback": [
      "\u001b[0;31m---------------------------------------------------------------------------\u001b[0m",
      "\u001b[0;31mNameError\u001b[0m                                 Traceback (most recent call last)",
      "\u001b[1;32m/Users/fengyuli/Desktop/Rec System/repo/experiment.ipynb Cell 6'\u001b[0m in \u001b[0;36m<cell line: 2>\u001b[0;34m()\u001b[0m\n\u001b[1;32m      <a href='vscode-notebook-cell:/Users/fengyuli/Desktop/Rec%20System/repo/experiment.ipynb#ch0000005?line=0'>1</a>\u001b[0m fig, axs \u001b[39m=\u001b[39m plt\u001b[39m.\u001b[39msubplots(\u001b[39m1\u001b[39m, \u001b[39m3\u001b[39m, figsize\u001b[39m=\u001b[39m(\u001b[39m15\u001b[39m, \u001b[39m4\u001b[39m))\n\u001b[0;32m----> <a href='vscode-notebook-cell:/Users/fengyuli/Desktop/Rec%20System/repo/experiment.ipynb#ch0000005?line=1'>2</a>\u001b[0m axs[\u001b[39m0\u001b[39m]\u001b[39m.\u001b[39mplot(beta, user_knn_result_avg[\u001b[39m0\u001b[39m], label\u001b[39m=\u001b[39m\u001b[39m'\u001b[39m\u001b[39m2-quantization\u001b[39m\u001b[39m'\u001b[39m)\n\u001b[1;32m      <a href='vscode-notebook-cell:/Users/fengyuli/Desktop/Rec%20System/repo/experiment.ipynb#ch0000005?line=2'>3</a>\u001b[0m axs[\u001b[39m0\u001b[39m]\u001b[39m.\u001b[39mplot(beta, user_knn_result_avg[\u001b[39m1\u001b[39m], label\u001b[39m=\u001b[39m\u001b[39m'\u001b[39m\u001b[39m3-quantization\u001b[39m\u001b[39m'\u001b[39m)\n\u001b[1;32m      <a href='vscode-notebook-cell:/Users/fengyuli/Desktop/Rec%20System/repo/experiment.ipynb#ch0000005?line=3'>4</a>\u001b[0m axs[\u001b[39m0\u001b[39m]\u001b[39m.\u001b[39mplot(beta, user_knn_result_avg[\u001b[39m2\u001b[39m], label\u001b[39m=\u001b[39m\u001b[39m'\u001b[39m\u001b[39m5-quantization\u001b[39m\u001b[39m'\u001b[39m)\n",
      "\u001b[0;31mNameError\u001b[0m: name 'user_knn_result_avg' is not defined"
     ]
    },
    {
     "data": {
      "image/png": "[encoded data removed]",
      "text/plain": [
       "<Figure size 1080x288 with 3 Axes>"
      ]
     },
     "metadata": {
      "needs_background": "light"
     },
     "output_type": "display_data"
    }
   ],
   "source": [
    "fig, axs = plt.subplots(1, 3, figsize=(15, 4))\n",
    "axs[0].plot(beta, user_knn_result_avg[0], label='2-quantization')\n",
    "axs[0].plot(beta, user_knn_result_avg[1], label='3-quantization')\n",
    "axs[0].plot(beta, user_knn_result_avg[2], label='5-quantization')\n",
    "axs[0].fill_between(beta, user_knn_result_1q[0], user_knn_result_3q[0], color='red', alpha=.1)\n",
    "axs[0].legend()\n",
    "\n",
    "axs[1].plot(beta, item_knn_result_avg[0], label='2-quantization')\n",
    "axs[1].plot(beta, item_knn_result_avg[1], label='3-quantization')\n",
    "axs[1].plot(beta, item_knn_result_avg[2], label='5-quantization')\n",
    "axs[1].fill_between(beta, item_knn_result_1q[0], item_knn_result_3q[0], color='red', alpha=.1)\n",
    "axs[1].legend()\n",
    "\n",
    "axs[2].plot(beta, svd_result_avg[0], label='2-quantization')\n",
    "axs[2].plot(beta, svd_result_avg[1], label='3-quantization')\n",
    "axs[2].plot(beta, svd_result_avg[2], label='5-quantization')\n",
    "axs[2].fill_between(beta, svd_result_1q[0], user_knn_result_3q[0], color='red', alpha=.1)\n",
    "axs[2].legend()\n",
    "fig.show()"
   ]
  },
  {
   "cell_type": "code",
   "execution_count": null,
   "metadata": {},
   "outputs": [],
   "source": []
  }
 ],
 "metadata": {
  "interpreter": {
   "hash": "8ee3bb2e9c7d656182d44de408df24462efd525664129895357ec560d99c5b9b"
  },
  "kernelspec": {
   "display_name": "Python 3.10.4 ('rec')",
   "language": "python",
   "name": "python3"
  },
  "language_info": {
   "codemirror_mode": {
    "name": "ipython",
    "version": 3
   },
   "file_extension": ".py",
   "mimetype": "text/x-python",
   "name": "python",
   "nbconvert_exporter": "python",
   "pygments_lexer": "ipython3",
   "version": "3.10.4"
  },
  "orig_nbformat": 4
 },
 "nbformat": 4,
 "nbformat_minor": 2
}
