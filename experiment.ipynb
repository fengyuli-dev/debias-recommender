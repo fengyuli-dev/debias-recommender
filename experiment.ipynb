{
 "cells": [
  {
   "cell_type": "code",
   "execution_count": 3,
   "metadata": {},
   "outputs": [],
   "source": [
    "import numpy as np\n",
    "from matplotlib import pyplot as plt\n",
    "%matplotlib inline\n",
    "from data_utils import generate_ground_truth_matrix, ground_truth_matrix_to_dataset, correlation\n",
    "import reclab"
   ]
  },
  {
   "cell_type": "code",
   "execution_count": 4,
   "metadata": {},
   "outputs": [
    {
     "name": "stdout",
     "output_type": "stream",
     "text": [
      "[1.0, 1.0, 1.0, 1.0, 1.0, 1.0, 0.9999999999999998, 1.0, 0.9999999999999998, 1.0]\n"
     ]
    },
    {
     "name": "stderr",
     "output_type": "stream",
     "text": [
      "/var/folders/p2/v6y91c591nq_2q129bwd64bc0000gn/T/ipykernel_6164/4046154162.py:19: UserWarning: Matplotlib is currently using module://matplotlib_inline.backend_inline, which is a non-GUI backend, so cannot show the figure.\n",
      "  fig1.show()\n"
     ]
    },
    {
     "data": {
      "image/png": "[encoded data removed]",
      "text/plain": [
       "<Figure size 432x288 with 1 Axes>"
      ]
     },
     "metadata": {
      "needs_background": "light"
     },
     "output_type": "display_data"
    }
   ],
   "source": [
    "# Beta vs Pearson correlation\n",
    "\n",
    "# np.random.seed(0)\n",
    "\n",
    "def correlation_train(beta, correlation_metric):\n",
    "    truth = generate_ground_truth_matrix(\n",
    "        (1000, 1000), environment='latent-dynamic-v1')\n",
    "    users, items, ratings, P, R = ground_truth_matrix_to_dataset(\n",
    "        truth, quantization='onetofive', bias='full underlying', beta=beta)\n",
    "    return correlation(P, truth, correlation_metric)\n",
    "\n",
    "\n",
    "beta = np.linspace(0.01, 10, 10)\n",
    "pearson = [correlation_train(i, 'spearman') for i in beta]\n",
    "print(pearson)\n",
    "fig1, ax = plt.subplots()\n",
    "ax.plot(beta, pearson)\n",
    "ax.set(xlabel='value of beta', ylabel='correlation')\n",
    "fig1.show()\n"
   ]
  }
 ],
 "metadata": {
  "interpreter": {
   "hash": "8ee3bb2e9c7d656182d44de408df24462efd525664129895357ec560d99c5b9b"
  },
  "kernelspec": {
   "display_name": "Python 3.10.4 ('rec')",
   "language": "python",
   "name": "python3"
  },
  "language_info": {
   "codemirror_mode": {
    "name": "ipython",
    "version": 3
   },
   "file_extension": ".py",
   "mimetype": "text/x-python",
   "name": "python",
   "nbconvert_exporter": "python",
   "pygments_lexer": "ipython3",
   "version": "3.10.4"
  },
  "orig_nbformat": 4
 },
 "nbformat": 4,
 "nbformat_minor": 2
}
